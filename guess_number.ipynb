{
  "nbformat": 4,
  "nbformat_minor": 0,
  "metadata": {
    "colab": {
      "name": "guess number.ipynb",
      "provenance": [],
      "authorship_tag": "ABX9TyNvjMYflOYQTwxz+aOyzU61",
      "include_colab_link": true
    },
    "kernelspec": {
      "name": "python3",
      "display_name": "Python 3"
    },
    "language_info": {
      "name": "python"
    }
  },
  "cells": [
    {
      "cell_type": "markdown",
      "metadata": {
        "id": "view-in-github",
        "colab_type": "text"
      },
      "source": [
        "<a href=\"https://colab.research.google.com/github/sprasad79/Data_science/blob/main/guess_number.ipynb\" target=\"_parent\"><img src=\"https://colab.research.google.com/assets/colab-badge.svg\" alt=\"Open In Colab\"/></a>"
      ]
    },
    {
      "cell_type": "code",
      "execution_count": 9,
      "metadata": {
        "colab": {
          "base_uri": "https://localhost:8080/"
        },
        "id": "-s3dBzmQeo3d",
        "outputId": "5c4fe11c-e790-4e76-d57c-6ec1d03f910b"
      },
      "outputs": [
        {
          "output_type": "stream",
          "name": "stdout",
          "text": [
            "is39 too high (H), too low (L), or correct (C)?? l\n",
            "is76 too high (H), too low (L), or correct (C)?? h\n",
            "is52 too high (H), too low (L), or correct (C)?? l\n",
            "is63 too high (H), too low (L), or correct (C)?? h\n",
            "is62 too high (H), too low (L), or correct (C)?? h\n",
            "is59 too high (H), too low (L), or correct (C)?? h\n",
            "is58 too high (H), too low (L), or correct (C)?? h\n",
            "is56 too high (H), too low (L), or correct (C)?? h\n",
            "is53 too high (H), too low (L), or correct (C)?? l\n",
            "is54 too high (H), too low (L), or correct (C)?? l\n",
            "is55 too high (H), too low (L), or correct (C)?? c\n",
            "Yah ! computer guessed your number, 55, correctly!\n"
          ]
        }
      ],
      "source": [
        "import random\n",
        "\n",
        "def guess(x):\n",
        "  random_number = random.randint(1, x)\n",
        "  guess = 0\n",
        "  while guess != random_number:\n",
        "    guess= int(input(f\"guess a number between 1 and {x}:  \"))\n",
        "\n",
        "    if guess < random_number:\n",
        "      print(\"sorry, guess again. Too low.\")\n",
        "    elif guess > random_number:\n",
        "      print(\"sorry, guess again, Too high\")\n",
        " \n",
        "  print(f\"Yay, congrats, you have guessed the number {random_number} correctly\")\n",
        "\n",
        "def computer_guess(x):\n",
        "  low = 1\n",
        "  high = x\n",
        "  feedback = ''\n",
        "  while feedback !='c':\n",
        "    if low !=high:\n",
        "      guess=random.randint(low, high)\n",
        "    else:\n",
        "      guess=low\n",
        "    feedback=input(f'is{guess} too high (H), too low (L), or correct (C)?? ').lower()\n",
        "    if feedback== 'h':\n",
        "      high= guess-1\n",
        "    if feedback == 'l':\n",
        "      low= guess+1\n",
        "  print(f'Yah ! computer guessed your number, {guess}, correctly!')\n",
        "\n",
        "computer_guess(100)"
      ]
    },
    {
      "cell_type": "code",
      "source": [
        ""
      ],
      "metadata": {
        "id": "ciexqdZcjWTs"
      },
      "execution_count": null,
      "outputs": []
    }
  ]
}